{
 "cells": [
  {
   "cell_type": "markdown",
   "metadata": {},
   "source": [
    "## 0. Imports and Paths\n"
   ]
  },
  {
   "cell_type": "code",
   "execution_count": null,
   "metadata": {},
   "outputs": [],
   "source": [
    "# Use tensorflow 2.5 for conversion!!!\n",
    "!conda install tensorflow==2.5"
   ]
  },
  {
   "cell_type": "code",
   "execution_count": 1,
   "metadata": {},
   "outputs": [],
   "source": [
    "import os\n",
    "import tensorflow as tf\n",
    "from tflite_support import flatbuffers\n",
    "from tflite_support import metadata as _metadata\n",
    "from tflite_support import metadata_schema_py_generated as _metadata_fb"
   ]
  },
  {
   "cell_type": "code",
   "execution_count": null,
   "metadata": {},
   "outputs": [],
   "source": [
    "WORKSPACE_PATH = os.path.join('..\\\\', '02_Workspace')\n",
    "\n",
    "LABELMAP_FILE = os.path.join(WORKSPACE_PATH, 'annotations', 'label_map.txt')\n",
    "\n",
    "OUTPUT_MODEL_PATH = \"licence_model.tflite\"\n",
    "OUTPUT_MODEL_PATH_JSON = \"licence_model.json\"\n",
    "\n",
    "SAVED_MODEL_PATH = os.path.join(\n",
    "    WORKSPACE_PATH, 'models', 'my_ssd_mobilenet', 'tfliteexport', 'saved_model')\n",
    "TFLITE_MODEL_PATH = os.path.join(\n",
    "    OUTPUT_MODEL_PATH, 'licence_model_with_metadata.tflite')"
   ]
  },
  {
   "cell_type": "markdown",
   "metadata": {},
   "source": [
    "## 1. Convert Saved Model to TFLite Model\n"
   ]
  },
  {
   "cell_type": "code",
   "execution_count": null,
   "metadata": {},
   "outputs": [],
   "source": [
    "# Convert SaveModel to TFLite format\n",
    "converter = tf.lite.TFLiteConverter.from_saved_model(SAVED_MODEL_PATH)\n",
    "tflite_model = converter.convert()\n",
    "\n",
    "# Save the SavedModel to a TFLite model\n",
    "with open(TFLITE_MODEL_PATH, 'wb') as f:\n",
    "    f.write(tflite_model)"
   ]
  },
  {
   "cell_type": "markdown",
   "metadata": {},
   "source": [
    "## 2. Add Metadata to TFLite Model\n"
   ]
  },
  {
   "cell_type": "code",
   "execution_count": null,
   "metadata": {},
   "outputs": [],
   "source": [
    "# Create model meta data\n",
    "model_meta = _metadata_fb.ModelMetadataT()\n",
    "model_meta.name = \"my_ssd_mobilenet_v2_fpnlite_320x320_coco17_tpu-8\"\n",
    "model_meta.description = (\n",
    "    \"This model detects car licence plates and is based on the ssd_mobilenet_v2_fpnlite_320x320_coco17_tpu-8 model\")\n",
    "model_meta.version = \"1.0\"\n",
    "model_meta.author = \"Jin-Jin Lee\""
   ]
  },
  {
   "cell_type": "code",
   "execution_count": null,
   "metadata": {},
   "outputs": [],
   "source": [
    "# Create input tensor info\n",
    "input_meta = _metadata_fb.TensorMetadataT()\n",
    "input_meta.name = \"image\"\n",
    "input_meta.description = (\n",
    "    \"Input image to be classified.\\n\"\n",
    "    \"One input: image, as a float32 tensor of shape[1, 320, 320, 3]\"\n",
    "    \"The expected image is 320 x 320, with three channels (red, blue, and green) per pixel. Input image is *normalized*.\"\n",
    ")\n",
    "\n",
    "# Set content properties for feature\n",
    "input_meta.content = _metadata_fb.ContentT()\n",
    "input_meta.content.contentProperties = _metadata_fb.ImagePropertiesT()\n",
    "input_meta.content.contentProperties.colorSpace = (\n",
    "    _metadata_fb.ColorSpaceType.RGB)\n",
    "input_meta.content.contentPropertiesType = (\n",
    "    _metadata_fb.ContentProperties.ImageProperties)\n",
    "\n",
    "input_normalization = _metadata_fb.ProcessUnitT()\n",
    "input_normalization.optionsType = (\n",
    "    _metadata_fb.ProcessUnitOptions.NormalizationOptions)\n",
    "input_normalization.options = _metadata_fb.NormalizationOptionsT()\n",
    "input_normalization.options.mean = [127.5]\n",
    "input_normalization.options.std = [127.5]\n",
    "\n",
    "input_meta.processUnits = [input_normalization]\n",
    "\n",
    "input_stats = _metadata_fb.StatsT()\n",
    "input_stats.max = [255]\n",
    "input_stats.min = [0]\n",
    "\n",
    "input_meta.stats = input_stats"
   ]
  },
  {
   "cell_type": "code",
   "execution_count": null,
   "metadata": {},
   "outputs": [],
   "source": [
    "# Create first output tensor info (locations)\n",
    "location_meta = _metadata_fb.TensorMetadataT()\n",
    "location_meta.name = \"locations\"\n",
    "location_meta.description = \"The locations of the detected boxes.\"\n",
    "\n",
    "# Set content properties for bounding box\n",
    "location_meta.content = _metadata_fb.ContentT()\n",
    "location_meta.content.contentProperties = _metadata_fb.BoundingBoxPropertiesT()\n",
    "location_meta.content.contentProperties.index = [1, 0, 3, 2]\n",
    "location_meta.content.contentProperties.type = _metadata_fb.BoundingBoxType.BOUNDARIES\n",
    "location_meta.content.contentPropertiesType = _metadata_fb.ContentProperties.BoundingBoxProperties\n",
    "\n",
    "\n",
    "# Set range\n",
    "location_meta.content.range = _metadata_fb.ValueRangeT()\n",
    "location_meta.content.range.min = 2\n",
    "location_meta.content.range.max = 2\n",
    "\n",
    "# Index 0: Corresponds to the x-coordinate of the top-left corner (x_min).\n",
    "# Index 1: Corresponds to the y-coordinate of the top-left corner (y_min).\n",
    "# Index 2: Corresponds to the x-coordinate of the bottom-right corner (x_max).\n",
    "# Index 3: Corresponds to the y-coordinate of the bottom-right corner (y_max)."
   ]
  },
  {
   "cell_type": "code",
   "execution_count": null,
   "metadata": {},
   "outputs": [],
   "source": [
    "# Create second output tensor info (classes)\n",
    "classes_meta = _metadata_fb.TensorMetadataT()\n",
    "classes_meta.name = \"classes\"\n",
    "classes_meta.description = \"The classes of the detected boxes.\"\n",
    "\n",
    "classes_meta.content = _metadata_fb.ContentT()\n",
    "classes_meta.content.contentProperties = _metadata_fb.FeaturePropertiesT()\n",
    "classes_meta.content.contentPropertiesType = _metadata_fb.ContentProperties.FeatureProperties\n",
    "\n",
    "label_file = _metadata_fb.AssociatedFileT()\n",
    "label_file.name = os.path.basename(LABELMAP_FILE)\n",
    "label_file.description = \"Labels for objects that the model can recognize.\"\n",
    "label_file.type = _metadata_fb.AssociatedFileType.TENSOR_VALUE_LABELS\n",
    "\n",
    "classes_meta.associatedFiles = [label_file]"
   ]
  },
  {
   "cell_type": "code",
   "execution_count": null,
   "metadata": {},
   "outputs": [],
   "source": [
    "# Create third output tensor info (scores)\n",
    "scores_meta = _metadata_fb.TensorMetadataT()\n",
    "scores_meta.name = \"scores\"\n",
    "scores_meta.description = \"The scores of the detected boxes.\"\n",
    "\n",
    "scores_meta.content = _metadata_fb.ContentT()\n",
    "scores_meta.content.contentProperties = _metadata_fb.FeaturePropertiesT()\n",
    "scores_meta.content.contentPropertiesType = _metadata_fb.ContentProperties.FeatureProperties"
   ]
  },
  {
   "cell_type": "code",
   "execution_count": null,
   "metadata": {},
   "outputs": [],
   "source": [
    "# Create forth output tensor info (number of detections)\n",
    "num_meta = _metadata_fb.TensorMetadataT()\n",
    "num_meta.name = \"number of detections\"\n",
    "num_meta.description = \"The number of the detected boxes.\"\n",
    "\n",
    "num_meta.content = _metadata_fb.ContentT()\n",
    "num_meta.content.contentProperties = _metadata_fb.FeaturePropertiesT()\n",
    "num_meta.content.contentPropertiesType = _metadata_fb.ContentProperties.FeatureProperties"
   ]
  },
  {
   "cell_type": "code",
   "execution_count": null,
   "metadata": {},
   "outputs": [],
   "source": [
    "# Creates subgraph info.\n",
    "subgraph = _metadata_fb.SubGraphMetadataT()\n",
    "subgraph.inputTensorMetadata = [input_meta]\n",
    "subgraph.outputTensorMetadata = [\n",
    "    location_meta, classes_meta, scores_meta, num_meta]\n",
    "model_meta.subgraphMetadata = [subgraph]\n",
    "\n",
    "# Initializes a FlatBuffers Builder object with an initial size of 0\n",
    "builder = flatbuffers.Builder(0)\n",
    "builder.Finish(model_meta.Pack(builder),\n",
    "               _metadata.MetadataPopulator.METADATA_FILE_IDENTIFIER)\n",
    "metadata_buf = builder.Output()"
   ]
  },
  {
   "cell_type": "code",
   "execution_count": null,
   "metadata": {},
   "outputs": [],
   "source": [
    "populator = _metadata.MetadataPopulator.with_model_file(OUTPUT_MODEL_PATH)\n",
    "populator.load_metadata_buffer(metadata_buf)\n",
    "populator.load_associated_files([LABELMAP_FILE])\n",
    "populator.populate()"
   ]
  },
  {
   "cell_type": "code",
   "execution_count": null,
   "metadata": {},
   "outputs": [],
   "source": [
    "displayer = _metadata.MetadataDisplayer.with_model_file(OUTPUT_MODEL_PATH)\n",
    "\n",
    "json_file = displayer.get_metadata_json()\n",
    "# Write out the metadata as a json file\n",
    "with open(OUTPUT_MODEL_PATH_JSON, \"w\") as f:\n",
    "    f.write(json_file)"
   ]
  }
 ],
 "metadata": {
  "kernelspec": {
   "display_name": "myenv",
   "language": "python",
   "name": "python3"
  },
  "language_info": {
   "codemirror_mode": {
    "name": "ipython",
    "version": 3
   },
   "file_extension": ".py",
   "mimetype": "text/x-python",
   "name": "python",
   "nbconvert_exporter": "python",
   "pygments_lexer": "ipython3",
   "version": "3.10.8"
  }
 },
 "nbformat": 4,
 "nbformat_minor": 2
}
