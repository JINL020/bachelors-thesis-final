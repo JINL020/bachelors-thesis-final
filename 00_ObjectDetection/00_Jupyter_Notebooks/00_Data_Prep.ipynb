{
 "cells": [
  {
   "cell_type": "markdown",
   "metadata": {},
   "source": [
    "# 0. Imports"
   ]
  },
  {
   "cell_type": "code",
   "execution_count": 3,
   "metadata": {},
   "outputs": [],
   "source": [
    "import os\n",
    "import subprocess\n",
    "import ctypes\n",
    "from PIL import Image\n",
    "import re\n",
    "import xml.etree.ElementTree as ET\n",
    "import cv2\n",
    "import shutil"
   ]
  },
  {
   "cell_type": "markdown",
   "metadata": {},
   "source": [
    "# 1. Convert all Files to JPG"
   ]
  },
  {
   "cell_type": "code",
   "execution_count": null,
   "metadata": {},
   "outputs": [],
   "source": [
    "def convertDirToJpg(input_dir):    \n",
    "    input_files = os.listdir(input_dir)\n",
    "\n",
    "    for file_name in input_files:\n",
    "        input_path = os.path.join(input_dir, file_name)\n",
    "        \n",
    "        if os.path.isdir(input_path):\n",
    "            continue\n",
    "        \n",
    "        # Get the filename without extension\n",
    "        filename_no_ext = os.path.splitext(file_name)[0]\n",
    "        \n",
    "        # Construct the full output file path with the same name\n",
    "        output_path = os.path.join(input_dir, filename_no_ext + '.jpg')\n",
    "        \n",
    "        convertImageToJpg(input_path, output_path)\n",
    "\n",
    "    print(\"End of process\")\n",
    "\n",
    "\n",
    "def convertImageToJpg(inputImg, outputDir):\n",
    "    image = Image.open(inputImg)\n",
    "    rgb_image = image.convert('RGB') # JPG does not support alpha(=transparency) and P and RGBA have alpha, so we convert to RGB first\n",
    "    rgb_image.save(outputDir)\n",
    "    if(os.path.splitext(inputImg)[1] != '.jpg'):\n",
    "        os.remove(inputImg)\n",
    "    print(f\"Conversion completed for {outputDir}\")"
   ]
  },
  {
   "cell_type": "code",
   "execution_count": null,
   "metadata": {},
   "outputs": [],
   "source": [
    "IMAGE_PATH = os.path.join('..\\\\', '01_Tensorflow', 'workspace','images', 'train')\n",
    "convertDirToJpg(IMAGE_PATH)"
   ]
  },
  {
   "cell_type": "markdown",
   "metadata": {},
   "source": [
    "# 2. Rename Files"
   ]
  },
  {
   "cell_type": "code",
   "execution_count": null,
   "metadata": {},
   "outputs": [],
   "source": [
    "def rename_files(folder_path, starting_number):\n",
    "    if not os.path.isdir(folder_path):\n",
    "        print(\"Error: The provided path is not a directory.\")\n",
    "        return\n",
    "    \n",
    "    folder_name = os.path.basename(folder_path)\n",
    "    files = [f for f in os.listdir(folder_path) if os.path.isfile(os.path.join(folder_path, f))]\n",
    "\n",
    "\n",
    "    for index, file_name in enumerate(files, starting_number):\n",
    "        # Split the file name and extension\n",
    "        name, extension = os.path.splitext(file_name)\n",
    "\n",
    "        # Create the new file name with the specified prefix and number\n",
    "        new_name = f\"{folder_name}_{index}{extension}\"\n",
    "\n",
    "        old_path = os.path.join(folder_path, file_name)\n",
    "        new_path = os.path.join(folder_path, new_name)\n",
    "\n",
    "        os.rename(old_path, new_path)\n",
    "        print(f\"Renamed to: {new_path}\")"
   ]
  },
  {
   "cell_type": "code",
   "execution_count": null,
   "metadata": {},
   "outputs": [],
   "source": [
    "IMAGE_PATH = os.path.join('..\\\\', '01_Tensorflow', 'workspace','images', 'austria')\n",
    "\n",
    "rename_files(os.path.join(IMAGE_PATH, 'w'), 0)\n",
    "rename_files(os.path.join(IMAGE_PATH, 'bgld'), 0)\n",
    "rename_files(os.path.join(IMAGE_PATH, 'ktn'), 0)\n",
    "rename_files(os.path.join(IMAGE_PATH, 'n'), 0)\n",
    "rename_files(os.path.join(IMAGE_PATH, 'o'), 0)\n",
    "rename_files(os.path.join(IMAGE_PATH, 'sbg'), 0)\n",
    "rename_files(os.path.join(IMAGE_PATH, 'stmk'), 0)\n",
    "rename_files(os.path.join(IMAGE_PATH, 'vbg'), 0)\n",
    "rename_files(os.path.join(IMAGE_PATH, 't'), 0)\n",
    "rename_files(os.path.join(IMAGE_PATH, 'eCar'), 0)\n",
    "rename_files(os.path.join(IMAGE_PATH, 'sonder'), 0)"
   ]
  },
  {
   "cell_type": "code",
   "execution_count": null,
   "metadata": {},
   "outputs": [],
   "source": [
    "def processFile(input_dir, starting_number):\n",
    "    rename_files(input_dir, starting_number)\n",
    "    convertDirToJpg(input_dir)"
   ]
  },
  {
   "cell_type": "markdown",
   "metadata": {},
   "source": [
    "# 3. Modify Data from Public Dataset to Fit Requirements"
   ]
  },
  {
   "cell_type": "markdown",
   "metadata": {},
   "source": [
    "## 3.1. Replace \"licenseplate\" label with \"licence\" in xml files"
   ]
  },
  {
   "cell_type": "code",
   "execution_count": null,
   "metadata": {},
   "outputs": [],
   "source": [
    "directory_path = os.path.join('..\\\\', '01_Tensorflow', 'workspace','images', 'train')\n",
    "\n",
    "for filename in os.listdir(directory_path):\n",
    "    if filename.endswith('.xml'): \n",
    "        file_path = os.path.join(directory_path, filename)\n",
    "\n",
    "        with open(file_path, 'r') as file:\n",
    "            xml_content = file.read()\n",
    "\n",
    "        # Replace \"licenseplate\" with \"licence\"\n",
    "        new_xml_content = re.sub(r'<name>licenseplate</name>', '<name>licence</name>', xml_content)\n",
    "\n",
    "        with open(file_path, 'w') as file:\n",
    "            file.write(new_xml_content)\n",
    "\n",
    "print(\"Modification completed.\")\n"
   ]
  },
  {
   "cell_type": "markdown",
   "metadata": {},
   "source": [
    "## 3.2. Create annotation from txt files with x, y, width, height format to xml Pascal VOC format"
   ]
  },
  {
   "cell_type": "code",
   "execution_count": null,
   "metadata": {},
   "outputs": [],
   "source": [
    "folder_path =\"C:/Users/jinji/OneDrive/Desktop/bachelor-thesis/source/benchmark/benchmarks-master/endtoend/eu\"\n",
    "out_path =\"../01_Tensorflow//workspace/images/mytest\"\n",
    "process_files(folder_path, out_path)"
   ]
  },
  {
   "cell_type": "code",
   "execution_count": null,
   "metadata": {},
   "outputs": [],
   "source": [
    "def process_files(folder_path, out_path):\n",
    "    for file_name in os.listdir(folder_path):\n",
    "        if file_name.endswith(\".txt\"):\n",
    "            image_file_name = file_name.replace(\".txt\", \".jpg\")\n",
    "            image_file_path = os.path.join(folder_path, image_file_name)\n",
    "\n",
    "            with open(os.path.join(folder_path, file_name), 'r') as txt_file:\n",
    "                line = txt_file.readline().strip().split('\\t')\n",
    "            folder = \"images\"\n",
    "            filename = image_file_name\n",
    "            image = cv2.imread(image_file_path)\n",
    "            height, width, depth = image.shape\n",
    "            x, y, box_width, box_height = map(int, line[1:5])\n",
    "            xmin, ymin, xmax, ymax = convert_coordinates(x, y, box_width, box_height, width, height)\n",
    "\n",
    "            # # Create XML content\n",
    "            xml_content = create_annotation_xml(folder, filename, width, height, depth, xmin, ymin, xmax, ymax)\n",
    "            # print(xml_content)\n",
    "            \n",
    "            if not os.path.exists(out_path):\n",
    "                os.makedirs(out_path)\n",
    "    \n",
    "            xml_file_path = os.path.join(out_path, f\"{filename.replace('.jpg', '.xml')}\")\n",
    "            with open(xml_file_path, 'w') as xml_file:\n",
    "                xml_file.write(xml_content)\n",
    "            \n",
    "            # Copy img to dir too\n",
    "            destination_dir = os.path.join(out_path, image_file_name)\n",
    "            shutil.copy(image_file_path, destination_dir)\n",
    "                \n",
    "            print(f\"XML file saved: {xml_file_path}\")\n",
    "            \n",
    "        \n",
    "def convert_coordinates(x, y, width, height, image_width, image_height):\n",
    "    xmin = max(0, x)\n",
    "    ymin = max(0, y)\n",
    "    xmax = min(x + width, image_width)\n",
    "    ymax = min(y + height, image_height)\n",
    "    return xmin, ymin, xmax, ymax\n",
    "\n",
    "            \n",
    "def create_annotation_xml(folder, filename, width, height, depth, xmin, ymin, xmax, ymax):\n",
    "    # Create root element\n",
    "    annotation = ET.Element(\"annotation\")\n",
    "\n",
    "    # Add child elements\n",
    "    folder_element = ET.SubElement(annotation, \"folder\")\n",
    "    folder_element.text = folder\n",
    "\n",
    "    filename_element = ET.SubElement(annotation, \"filename\")\n",
    "    filename_element.text = filename\n",
    "\n",
    "    size_element = ET.SubElement(annotation, \"size\")\n",
    "    width_element = ET.SubElement(size_element, \"width\")\n",
    "    width_element.text = str(width)\n",
    "    height_element = ET.SubElement(size_element, \"height\")\n",
    "    height_element.text = str(height)\n",
    "    depth_element = ET.SubElement(size_element, \"depth\")\n",
    "    depth_element.text = str(depth)\n",
    "\n",
    "    segmented_element = ET.SubElement(annotation, \"segmented\")\n",
    "    segmented_element.text = str(0)\n",
    "\n",
    "    object_element = ET.SubElement(annotation, \"object\")\n",
    "    name_element = ET.SubElement(object_element, \"name\")\n",
    "    name_element.text = \"licence\"\n",
    "\n",
    "    pose_element = ET.SubElement(object_element, \"pose\")\n",
    "    pose_element.text = \"Unspecified\"\n",
    "\n",
    "    truncated_element = ET.SubElement(object_element, \"truncated\")\n",
    "    truncated_element.text = \"0\"\n",
    "\n",
    "    occluded_element = ET.SubElement(object_element, \"occluded\")\n",
    "    occluded_element.text = \"0\"\n",
    "\n",
    "    difficult_element = ET.SubElement(object_element, \"difficult\")\n",
    "    difficult_element.text = \"0\"\n",
    "\n",
    "    bndbox_element = ET.SubElement(object_element, \"bndbox\")\n",
    "    xmin_element = ET.SubElement(bndbox_element, \"xmin\")\n",
    "    xmin_element.text = str(xmin)\n",
    "    ymin_element = ET.SubElement(bndbox_element, \"ymin\")\n",
    "    ymin_element.text = str(ymin)\n",
    "    xmax_element = ET.SubElement(bndbox_element, \"xmax\")\n",
    "    xmax_element.text = str(xmax)\n",
    "    ymax_element = ET.SubElement(bndbox_element, \"ymax\")\n",
    "    ymax_element.text = str(ymax)\n",
    "\n",
    "    # Create and return the XML string\n",
    "    xml_str = ET.tostring(annotation, encoding=\"unicode\")\n",
    "    return xml_str\n",
    "           "
   ]
  },
  {
   "cell_type": "markdown",
   "metadata": {},
   "source": [
    "# 4. Label Images"
   ]
  },
  {
   "cell_type": "code",
   "execution_count": null,
   "metadata": {},
   "outputs": [],
   "source": [
    "# Download and build Labelimg tool\n",
    "LABELIMG_PATH = os.path.join('..\\\\', '01:Tensorflow', 'labelimg')\n",
    "\n",
    "if not os.path.exists(LABELIMG_PATH):\n",
    "    os.makedirs(LABELIMG_PATH)\n",
    "    subprocess.run([\"git\", \"clone\", \"https://github.com/tzutalin/labelImg\", LABELIMG_PATH])\n",
    "    # compile\n",
    "    !cd {LABELIMG_PATH} && pyrcc5 -o libs/resources.py resources.qrc"
   ]
  },
  {
   "cell_type": "code",
   "execution_count": null,
   "metadata": {},
   "outputs": [],
   "source": [
    "# Open Labelimg tool\n",
    "!cd {LABELIMG_PATH} && python labelImg.py"
   ]
  },
  {
   "cell_type": "markdown",
   "metadata": {},
   "source": [
    "# 5. Move Data into a Training and Testing Folder"
   ]
  },
  {
   "cell_type": "code",
   "execution_count": 6,
   "metadata": {},
   "outputs": [],
   "source": [
    "TRAIN_PATH = os.path.join('..\\\\', '01_Tensorflow', 'workspace', 'images', 'train')\n",
    "TEST_PATH = os.path.join('..\\\\', 'Tensorflow', 'workspace', 'images', 'test')\n",
    "\n",
    "if not os.path.exists(TRAIN_PATH):\n",
    "    os.makedirs(TRAIN_PATH)\n",
    "if not os.path.exists(TEST_PATH):\n",
    "    os.makedirs(TEST_PATH)"
   ]
  },
  {
   "cell_type": "markdown",
   "metadata": {},
   "source": [
    "# 6. OPTIONAL - Compress Data for Colab Training"
   ]
  },
  {
   "cell_type": "code",
   "execution_count": null,
   "metadata": {},
   "outputs": [],
   "source": [
    "IMAGES_PATH = os.path.join('..\\\\', '01_Tensorflow', 'workspace', 'images')\n",
    "ARCHIVE_PATH = os.path.join(IMAGES_PATH, 'archive.tar.gz')"
   ]
  },
  {
   "cell_type": "code",
   "execution_count": null,
   "metadata": {},
   "outputs": [],
   "source": [
    "# Compress\n",
    "if not os.path.exists(ARCHIVE_PATH):\n",
    "    !cd {IMAGES_PATH} && tar -czvf archive.tar.gz train test\n",
    "else: \n",
    "    print(\"archive.tar.gz already exist.\")"
   ]
  },
  {
   "cell_type": "code",
   "execution_count": null,
   "metadata": {},
   "outputs": [],
   "source": [
    "# Extract\n",
    "if os.path.exists(ARCHIVE_PATH):\n",
    "  !cd {IMAGES_PATH} && tar -xzvf archive.tar.gz\n",
    "else: \n",
    "    print(\"archive.tar.gz does not exist.\")"
   ]
  }
 ],
 "metadata": {
  "kernelspec": {
   "display_name": "myenv",
   "language": "python",
   "name": "python3"
  },
  "language_info": {
   "codemirror_mode": {
    "name": "ipython",
    "version": 3
   },
   "file_extension": ".py",
   "mimetype": "text/x-python",
   "name": "python",
   "nbconvert_exporter": "python",
   "pygments_lexer": "ipython3",
   "version": "3.10.8"
  }
 },
 "nbformat": 4,
 "nbformat_minor": 2
}
